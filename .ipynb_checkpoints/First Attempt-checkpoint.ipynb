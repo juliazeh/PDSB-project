{
 "cells": [
  {
   "cell_type": "markdown",
   "metadata": {},
   "source": [
    "## Installing pyAudioAnalysis\n",
    "First, clone the library using`git clone https://github.com/tyiannak/pyAudioAnalysis.git`\n",
    "\n",
    "Next, `export PYTHONPATH=$PYTHONPATH:\"/home/juliazeh/\"` to export the path up to but not including the folder called pyAudioAnalysis.\n",
    "\n",
    "Finally, add this to your `.bashrc` file using `source ~/.bashrc`"
   ]
  },
  {
   "cell_type": "code",
   "execution_count": 3,
   "metadata": {},
   "outputs": [
    {
     "ename": "SyntaxError",
     "evalue": "Missing parentheses in call to 'print'. Did you mean print(int 'You pressed Ctrl+C! - EXIT')? (audioTrainTest.py, line 24)",
     "output_type": "error",
     "traceback": [
      "Traceback \u001b[0;36m(most recent call last)\u001b[0m:\n",
      "  File \u001b[1;32m\"/Users/juliazeh/miniconda/lib/python3.6/site-packages/IPython/core/interactiveshell.py\"\u001b[0m, line \u001b[1;32m2910\u001b[0m, in \u001b[1;35mrun_code\u001b[0m\n    exec(code_obj, self.user_global_ns, self.user_ns)\n",
      "\u001b[0;36m  File \u001b[0;32m\"<ipython-input-3-99223c71619c>\"\u001b[0;36m, line \u001b[0;32m1\u001b[0;36m, in \u001b[0;35m<module>\u001b[0;36m\u001b[0m\n\u001b[0;31m    from pyAudioAnalysis import audioTrainTest\u001b[0m\n",
      "\u001b[0;36m  File \u001b[0;32m\"/Users/juliazeh/miniconda/lib/python3.6/site-packages/pyAudioAnalysis/audioTrainTest.py\"\u001b[0;36m, line \u001b[0;32m24\u001b[0m\n\u001b[0;31m    print 'You pressed Ctrl+C! - EXIT'\u001b[0m\n\u001b[0m                                     ^\u001b[0m\n\u001b[0;31mSyntaxError\u001b[0m\u001b[0;31m:\u001b[0m Missing parentheses in call to 'print'. Did you mean print(int 'You pressed Ctrl+C! - EXIT')?\n"
     ]
    }
   ],
   "source": [
    "from pyAudioAnalysis import audioTrainTest"
   ]
  },
  {
   "cell_type": "code",
   "execution_count": null,
   "metadata": {},
   "outputs": [],
   "source": []
  }
 ],
 "metadata": {
  "kernelspec": {
   "display_name": "Python 3",
   "language": "python",
   "name": "python3"
  },
  "language_info": {
   "codemirror_mode": {
    "name": "ipython",
    "version": 3
   },
   "file_extension": ".py",
   "mimetype": "text/x-python",
   "name": "python",
   "nbconvert_exporter": "python",
   "pygments_lexer": "ipython3",
   "version": "3.6.3"
  }
 },
 "nbformat": 4,
 "nbformat_minor": 2
}
